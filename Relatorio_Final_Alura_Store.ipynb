{
 "cells": [
  {
   "cell_type": "markdown",
   "id": "91fb51e7",
   "metadata": {},
   "source": [
    "# 📊 Relatório Final de Análise — Alura Store"
   ]
  },
  {
   "cell_type": "markdown",
   "id": "a7a98393",
   "metadata": {},
   "source": [
    "## 🧭 Introdução\n",
    "\n",
    "O presente relatório tem como objetivo auxiliar o Senhor João na decisão de qual loja da rede **Alura Store** deve ser vendida, com base em uma análise de dados abrangente envolvendo quatro unidades da rede. Através da manipulação de dados com **Pandas** e visualização com **Matplotlib**, foram analisados diversos fatores estratégicos, como:\n",
    "\n",
    "- Faturamento total\n",
    "- Categorias mais e menos vendidas\n",
    "- Avaliação média dos clientes\n",
    "- Produtos mais e menos vendidos\n",
    "- Frete médio por loja\n",
    "\n",
    "O foco foi identificar a **loja com menor eficiência** e embasar a recomendação com dados concretos.\n"
   ]
  },
  {
   "cell_type": "markdown",
   "id": "1cd29096",
   "metadata": {},
   "source": [
    "## 📈 Desenvolvimento\n",
    "\n",
    "### 💰 Faturamento Total por Loja\n",
    "\n",
    "A análise revelou que a **Loja X** teve o **menor faturamento** entre todas as unidades, indicando baixa performance de vendas e potencial subaproveitamento da operação. Já a **Loja Y** destacou-se com o maior faturamento, mostrando um bom desempenho comercial.\n",
    "\n",
    "### 🛍️ Vendas por Categoria\n",
    "\n",
    "A distribuição de vendas por categoria evidenciou que lojas como a **Loja Z** possuem uma maior diversidade e volume em categorias estratégicas como *Informática* e *Eletrônicos*. Por outro lado, a **Loja X** apresentou baixa performance em categorias relevantes, o que reforça sua baixa atratividade no portfólio.\n",
    "\n",
    "### 🌟 Avaliações dos Clientes\n",
    "\n",
    "A média das avaliações também foi um critério decisivo. A **Loja X** obteve a **menor nota média**, refletindo uma possível insatisfação dos clientes com os produtos, atendimento ou logística.\n",
    "\n",
    "### 🛒 Produtos Mais e Menos Vendidos\n",
    "\n",
    "Na análise dos produtos, a **Loja X** concentrou-se em produtos com baixa saída, enquanto outras lojas apresentaram top 5 produtos com alto volume de vendas e mais diversidade.\n",
    "\n",
    "### 🚚 Frete Médio por Loja\n",
    "\n",
    "O frete médio da **Loja X** também foi um dos mais elevados, o que pode impactar diretamente na conversão de vendas, visto que altos custos logísticos tendem a desestimular os clientes.\n"
   ]
  },
  {
   "cell_type": "markdown",
   "id": "356f7087",
   "metadata": {},
   "source": [
    "## ✅ Conclusão e Recomendação\n",
    "\n",
    "Com base em todas as análises realizadas, **a loja recomendada para ser vendida é a Loja X**.\n",
    "\n",
    "**Justificativas principais:**\n",
    "- **Menor faturamento geral**, indicando baixo desempenho financeiro.\n",
    "- **Piores avaliações médias**, refletindo baixa satisfação dos clientes.\n",
    "- **Produtos com pouca saída** e baixa diversificação em categorias-chave.\n",
    "- **Frete médio mais alto**, o que prejudica a competitividade frente às demais unidades.\n",
    "\n",
    "A venda da Loja X representa uma **oportunidade estratégica** de reduzir custos, concentrar investimentos nas unidades mais lucrativas e permitir que o Senhor João inicie seu novo empreendimento com maior segurança e eficiência financeira.\n"
   ]
  }
 ],
 "metadata": {},
 "nbformat": 4,
 "nbformat_minor": 5
}